{
  "nbformat": 4,
  "nbformat_minor": 0,
  "metadata": {
    "colab": {
      "provenance": [],
      "authorship_tag": "ABX9TyPxyRExXpNRyzkYkz5NFY78",
      "include_colab_link": true
    },
    "kernelspec": {
      "name": "python3",
      "display_name": "Python 3"
    },
    "language_info": {
      "name": "python"
    }
  },
  "cells": [
    {
      "cell_type": "markdown",
      "metadata": {
        "id": "view-in-github",
        "colab_type": "text"
      },
      "source": [
        "<a href=\"https://colab.research.google.com/github/mhfabri/PA_Prog_e_Algorit-1C/blob/main/lista_tuplas_e_dicionarios_%2B_manipula%C3%A7%C3%A3o_de_strings.ipynb\" target=\"_parent\"><img src=\"https://colab.research.google.com/assets/colab-badge.svg\" alt=\"Open In Colab\"/></a>"
      ]
    },
    {
      "cell_type": "markdown",
      "source": [
        "#lista tuplas e dicionarios\n"
      ],
      "metadata": {
        "id": "e0cgfxaTzt8f"
      }
    },
    {
      "cell_type": "markdown",
      "source": [
        "# **Exercícios**\n",
        "##Exercício 1: Manipulação de Listas\n",
        "\n",
        "- Defina uma lista com 5 nomes de cidades.\n",
        "- Adicione uma nova cidade ao final da lista.\n",
        "- Remova a segunda cidade da lista.\n",
        "- Imprima a lista resultante."
      ],
      "metadata": {
        "id": "Y_YJtHALyD7j"
      }
    },
    {
      "cell_type": "code",
      "source": [
        "# seu código aqui...\n",
        "lista1 = ['Ribeirão pires', 'santo andre', 'maua', 'suzano', 'santos']\n",
        "print(lista1)\n",
        "lista1.append('mooca')\n",
        "print(lista1)\n",
        "lista1.remove(lista1[1])\n",
        "print(lista1)"
      ],
      "metadata": {
        "id": "F7PpZmzsyJkj",
        "colab": {
          "base_uri": "https://localhost:8080/"
        },
        "outputId": "7bb59edd-0920-499e-f522-0ff1272d8438"
      },
      "execution_count": null,
      "outputs": [
        {
          "output_type": "stream",
          "name": "stdout",
          "text": [
            "['Ribeirão pires', 'santo andre', 'maua', 'suzano', 'santos']\n",
            "['Ribeirão pires', 'santo andre', 'maua', 'suzano', 'santos', 'mooca']\n",
            "['Ribeirão pires', 'maua', 'suzano', 'santos', 'mooca']\n"
          ]
        }
      ]
    },
    {
      "cell_type": "markdown",
      "source": [
        "##Exercício 2: Operações com Tuplas\n",
        "\n",
        "- Defina uma tupla com 4 cores.\n",
        "- Crie uma nova tupla que seja a concatenação da tupla original com outra contendo mais 2 cores.\n",
        "- Imprima a nova tupla."
      ],
      "metadata": {
        "id": "chLTYNQGyUrj"
      }
    },
    {
      "cell_type": "code",
      "source": [
        "# seu código aqui...\n",
        "tupla1 = ('azul', 'amarelo', 'vermelho', 'preto')\n",
        "print(tupla1)\n",
        "tupla2 = tupla1 + ('cinza',)\n",
        "print(tupla2)"
      ],
      "metadata": {
        "id": "TdRLrGUoyaHa",
        "colab": {
          "base_uri": "https://localhost:8080/"
        },
        "outputId": "4fda87d0-08f1-4ec6-e751-5a93a9a5efc0"
      },
      "execution_count": null,
      "outputs": [
        {
          "output_type": "stream",
          "name": "stdout",
          "text": [
            "('azul', 'amarelo', 'vermelho', 'preto')\n",
            "('azul', 'amarelo', 'vermelho', 'preto', 'cinza')\n"
          ]
        }
      ]
    },
    {
      "cell_type": "markdown",
      "source": [
        "##Exercício 3: Dicionários Simples\n",
        "\n",
        "Crie um dicionário para representar um aluno, contendo \"nome\", \"idade\" e \"curso\".\n",
        "- Atualize a idade do aluno.\n",
        "- Adicione uma nova chave \"nota\" com um valor.\n",
        "- Imprima o dicionário atualizado"
      ],
      "metadata": {
        "id": "5eLz2Zvvygej"
      }
    },
    {
      "cell_type": "code",
      "source": [
        "# seu código aqui...\n",
        "ficha = {\n",
        "    \"nome\": \"matheus\",\n",
        "    \"idade\": 15,\n",
        "    \"curso\": \"TI\"\n",
        "}\n",
        "print(ficha)\n",
        "ficha[\"idade\"] = 16\n",
        "print(ficha)\n",
        "ficha[\"nota\"] = 10\n",
        "print(ficha)"
      ],
      "metadata": {
        "id": "g3w1JYkIy1fy",
        "colab": {
          "base_uri": "https://localhost:8080/"
        },
        "outputId": "5c9a0e98-d32e-4323-b2b9-905c9786fb02"
      },
      "execution_count": null,
      "outputs": [
        {
          "output_type": "stream",
          "name": "stdout",
          "text": [
            "{'nome': 'matheus', 'idade': 15, 'curso': 'TI'}\n",
            "{'nome': 'matheus', 'idade': 16, 'curso': 'TI'}\n",
            "{'nome': 'matheus', 'idade': 16, 'curso': 'TI', 'nota': 10}\n"
          ]
        }
      ]
    },
    {
      "cell_type": "markdown",
      "source": [
        "##Exercício 4: Listas e Dicionários\n",
        "\n",
        "- Crie uma lista de dicionários, onde cada dicionário representa um produto com as chaves \"nome\" e \"preço\".\n",
        "- Adicione um novo produto à lista.\n",
        "- Atualize o preço do primeiro produto na lista.\n",
        "- Imprima a lista resultante."
      ],
      "metadata": {
        "id": "6IhHbYV3y7ES"
      }
    },
    {
      "cell_type": "code",
      "source": [
        "# seu código aqui...\n",
        "listdic = [\n",
        "    {\"nome\":\"livro\", \"preço\":130},\n",
        "    {\"nome\":\"celular\", \"preço\":3000},\n",
        "    {\"nome\":\"fone\", \"preço\":250}\n",
        "]\n",
        "\n",
        "listdic.append({\"nome\":\"batedeira\", \"preço\":500})\n",
        "\n",
        "listdic2 = {\"nome\":\"livro\", \"preço\":180}\n",
        "\n",
        "listdic[0].update(listdic2)\n",
        "\n",
        "\n",
        "print(listdic)\n",
        "\n"
      ],
      "metadata": {
        "id": "OgnFiZ2qzGAD",
        "colab": {
          "base_uri": "https://localhost:8080/"
        },
        "outputId": "99b4d68f-b986-4a5a-dff0-8b447e2980cf"
      },
      "execution_count": null,
      "outputs": [
        {
          "output_type": "stream",
          "name": "stdout",
          "text": [
            "[{'nome': 'livro', 'preço': 180}, {'nome': 'celular', 'preço': 3000}, {'nome': 'fone', 'preço': 250}, {'nome': 'batedeira', 'preço': 500}]\n"
          ]
        }
      ]
    },
    {
      "cell_type": "markdown",
      "source": [
        "##Exercício 5: Analisando uma Lista de Tuplas\n",
        "\n",
        "- Crie uma lista de tuplas, onde cada tupla contém um par (nome, idade).\n",
        "- Encontre e imprima o nome da pessoa mais velha.\n",
        "- Encontre e imprima a idade média das pessoas."
      ],
      "metadata": {
        "id": "KtVatd9TzJRC"
      }
    },
    {
      "cell_type": "code",
      "source": [
        "pessoas = [\n",
        "    (\"lucio\", 100),\n",
        "    (\"bipal\", 150),\n",
        "    (\"jalam\", 200)\n",
        "]\n",
        "\n",
        "maisvelho = \"\"\n",
        "idademaisvelho = 0\n",
        "\n",
        "if pessoas[0][1] > pessoas[1][1]:\n",
        "  maisvelho = pessoas[0][0]\n",
        "  idademaisvelho = pessoas[0][1]\n",
        "  if pessoas[0][1] > pessoas[2][1]:\n",
        "    maisvelho = pessoas[0][0]\n",
        "    idademaisvelho = pessoas[0][1]\n",
        "  else:\n",
        "    maisvelho = pessoas[2][0]\n",
        "    idademaisvelho = pessoas[2][1]\n",
        "else:\n",
        "  if pessoas[1][1] > pessoas[2][1]:\n",
        "        maisvelho = pessoas[1][0]\n",
        "        idademaisvelho = pessoas[1][1]\n",
        "  else:\n",
        "        maisvelho = pessoas[2][0]\n",
        "        idademaisvelho = pessoas[2][1]\n",
        "\n",
        "\n",
        "media = (pessoas[0][1] + pessoas[1][1] + pessoas[2][1])/3\n",
        "\n",
        "print(maisvelho, idademaisvelho)\n",
        "print(media)\n",
        "# print( pessoas[2] é irmão do pessoas[1])"
      ],
      "metadata": {
        "id": "yLcULP8ozSHh",
        "colab": {
          "base_uri": "https://localhost:8080/"
        },
        "outputId": "60563303-11d8-4f7c-b26e-18ca86d47f55"
      },
      "execution_count": null,
      "outputs": [
        {
          "output_type": "stream",
          "name": "stdout",
          "text": [
            "jalam 200\n",
            "150.0\n"
          ]
        }
      ]
    },
    {
      "cell_type": "markdown",
      "source": [
        "#manipulaçao de strings"
      ],
      "metadata": {
        "id": "a7m78xzU0AmB"
      }
    },
    {
      "cell_type": "code",
      "source": [
        "# 1 - Use o método len para imprimir o comprimento da string.\n",
        "x = \"Hello World\"\n",
        "print(len(x))"
      ],
      "metadata": {
        "id": "VaXue1uMuGtE",
        "colab": {
          "base_uri": "https://localhost:8080/"
        },
        "outputId": "a9e811fe-b804-49cf-b0e5-cec285fba037"
      },
      "execution_count": null,
      "outputs": [
        {
          "output_type": "stream",
          "name": "stdout",
          "text": [
            "11\n"
          ]
        }
      ]
    },
    {
      "cell_type": "code",
      "source": [
        "# 2 - Obtenha o primeiro caractere da string txt.\n",
        "txt = \"Hello World\"\n",
        "x = txt[0]\n",
        "x"
      ],
      "metadata": {
        "id": "hE23s19XuT9V",
        "colab": {
          "base_uri": "https://localhost:8080/",
          "height": 35
        },
        "outputId": "dc3f70f2-e96c-4f60-947a-601b74a0dc05"
      },
      "execution_count": null,
      "outputs": [
        {
          "output_type": "execute_result",
          "data": {
            "text/plain": [
              "'H'"
            ],
            "application/vnd.google.colaboratory.intrinsic+json": {
              "type": "string"
            }
          },
          "metadata": {},
          "execution_count": 19
        }
      ]
    },
    {
      "cell_type": "code",
      "source": [
        "# 3 - Obtenha os caracteres do índice 2 ao índice 4 ( llo).\n",
        "txt = \"Hello World\"\n",
        "x = txt[2:5]\n",
        "x"
      ],
      "metadata": {
        "id": "u5G2G2Icuh_5",
        "colab": {
          "base_uri": "https://localhost:8080/",
          "height": 35
        },
        "outputId": "d47575d4-abe6-46e0-88b8-37319843d23e"
      },
      "execution_count": null,
      "outputs": [
        {
          "output_type": "execute_result",
          "data": {
            "text/plain": [
              "'llo'"
            ],
            "application/vnd.google.colaboratory.intrinsic+json": {
              "type": "string"
            }
          },
          "metadata": {},
          "execution_count": 22
        }
      ]
    },
    {
      "cell_type": "code",
      "source": [
        "# 4 - Converta o valor de txt para maiúsculas.\n",
        "txt = \"Hello World\"\n",
        "x = txt.upper()\n",
        "x"
      ],
      "metadata": {
        "id": "i_QREABlusUY",
        "colab": {
          "base_uri": "https://localhost:8080/",
          "height": 35
        },
        "outputId": "3ba403f6-7f49-435a-bfd2-756301c43586"
      },
      "execution_count": null,
      "outputs": [
        {
          "output_type": "execute_result",
          "data": {
            "text/plain": [
              "'HELLO WORLD'"
            ],
            "application/vnd.google.colaboratory.intrinsic+json": {
              "type": "string"
            }
          },
          "metadata": {},
          "execution_count": 24
        }
      ]
    },
    {
      "cell_type": "code",
      "source": [
        "# 5 - Conte quantas vezes aparece a palavra \"de\" na string abaixo\n",
        "txt = \"Eu gosto de vijar, tomar vinho, de estudar estudar programação, de estudar Pyhon\"\n",
        "txt.count(\"de\")"
      ],
      "metadata": {
        "id": "nVC1pSwq2PDH",
        "colab": {
          "base_uri": "https://localhost:8080/"
        },
        "outputId": "74a171eb-5556-419b-911f-554b738b79de"
      },
      "execution_count": null,
      "outputs": [
        {
          "output_type": "execute_result",
          "data": {
            "text/plain": [
              "3"
            ]
          },
          "metadata": {},
          "execution_count": 25
        }
      ]
    },
    {
      "cell_type": "code",
      "source": [
        "# 6 - Separe a frase abaixo toda vez que encontrar um vírgula\n",
        "txt = \"Eu gosto de vijar, tomar vinho, de estudar estudar programação, de estudar Pyhon\"\n",
        "txt.partition(\",\")"
      ],
      "metadata": {
        "id": "tkUBrdQH3OUR",
        "colab": {
          "base_uri": "https://localhost:8080/"
        },
        "outputId": "6e8d4048-2831-480d-fb95-d209e1aa4d57"
      },
      "execution_count": null,
      "outputs": [
        {
          "output_type": "execute_result",
          "data": {
            "text/plain": [
              "('Eu gosto de vijar',\n",
              " ',',\n",
              " ' tomar vinho, de estudar estudar programação, de estudar Pyhon')"
            ]
          },
          "metadata": {},
          "execution_count": 28
        }
      ]
    },
    {
      "cell_type": "code",
      "source": [
        "#7 - Peça ao usuário uma frase e substitua todas as ocorrências de espaço por “#”.\n",
        "frase = input(\"Digite uma frase: \")\n",
        "frase.replace(\" \", \"#\")"
      ],
      "metadata": {
        "id": "WZn4Jk5OtYaV",
        "colab": {
          "base_uri": "https://localhost:8080/",
          "height": 53
        },
        "outputId": "6d17937d-9886-42d4-d8f6-a1f29007846a"
      },
      "execution_count": null,
      "outputs": [
        {
          "name": "stdout",
          "output_type": "stream",
          "text": [
            "Digite uma frase: eu estou com sono\n"
          ]
        },
        {
          "output_type": "execute_result",
          "data": {
            "text/plain": [
              "'eu#estou#com#sono'"
            ],
            "application/vnd.google.colaboratory.intrinsic+json": {
              "type": "string"
            }
          },
          "metadata": {},
          "execution_count": 29
        }
      ]
    },
    {
      "cell_type": "code",
      "source": [
        "# 8 - Faça um programa que retorne True se duas strings lidas do teclado são palíndromas mútuas, ou seja, se uma é igual à outra quando lida de traz para frente ou False, se não forem.\n",
        "# Por exemplo: amor e roma\n",
        "palavra1 = input(\"Digite uma frase: \")\n",
        "palavra1inv = palavra1[::-1]\n",
        "palavra2 = input(\"Digite uma frase q seja igual a outra de traz para frente: \")\n",
        "palavra2inv = palavra2[::-1]\n",
        "if palavra2inv == palavra1:\n",
        "  print(\"true\")\n",
        "elif palavra1 == palavra1inv:\n",
        "  print(\"palavra 1 é palindroma com ela mesma\")\n",
        "elif palavra2 == palavra2inv:\n",
        "  print(\"palavra 2 é palindroma com ela mesma\")\n",
        "else:\n",
        "  print(\"false\")"
      ],
      "metadata": {
        "id": "xMzTvD-StfcV",
        "colab": {
          "base_uri": "https://localhost:8080/"
        },
        "outputId": "874835e2-28a7-4516-e05a-3683098408b6"
      },
      "execution_count": null,
      "outputs": [
        {
          "output_type": "stream",
          "name": "stdout",
          "text": [
            "Digite uma frase: \n",
            "Digite uma frase q seja igual a outra de traz para frente: \n",
            "true\n"
          ]
        }
      ]
    },
    {
      "cell_type": "code",
      "source": [
        "# 9- Faça um programa que leia o nome do usuário e mostre o nome de traz para frente, utilizando somente letras maiúsculas.\n",
        "nome = input(\"digite seu nome: \")\n",
        "nome = nome.upper()\n",
        "nome = nome[::-1]\n",
        "nome"
      ],
      "metadata": {
        "id": "Q-VT1F6StorW",
        "colab": {
          "base_uri": "https://localhost:8080/",
          "height": 53
        },
        "outputId": "c6a16d52-6719-4f55-d8e6-17a37b4ff5c3"
      },
      "execution_count": null,
      "outputs": [
        {
          "name": "stdout",
          "output_type": "stream",
          "text": [
            "digite seu nome: yago\n"
          ]
        },
        {
          "output_type": "execute_result",
          "data": {
            "text/plain": [
              "'OGAY'"
            ],
            "application/vnd.google.colaboratory.intrinsic+json": {
              "type": "string"
            }
          },
          "metadata": {},
          "execution_count": 41
        }
      ]
    }
  ]
}